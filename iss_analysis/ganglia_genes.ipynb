{
 "cells": [
  {
   "cell_type": "code",
   "execution_count": 3,
   "metadata": {},
   "outputs": [
    {
     "name": "stdout",
     "output_type": "stream",
     "text": [
      "The autoreload extension is already loaded. To reload it, use:\n",
      "  %reload_ext autoreload\n"
     ]
    }
   ],
   "source": [
    "%load_ext autoreload\n",
    "%autoreload 2\n",
    "import iss_analysis as iss\n",
    "import time\n",
    "import numpy as np\n",
    "import re\n",
    "import pandas as pd\n",
    "import matplotlib.pyplot as plt\n",
    "#import loompy\n",
    "import scanpy as sc"
   ]
  },
  {
   "cell_type": "code",
   "execution_count": 63,
   "metadata": {},
   "outputs": [],
   "source": [
    "#define gene sets\n",
    "def filter_genes(gene_names):\n",
    "    # get rid of gene models etc\n",
    "    genes_Rik = np.array([ re.search('Rik$', s) is not None for s in gene_names ])\n",
    "    genes_Gm = np.array([ re.search('Gm\\d', s) is not None for s in gene_names ])\n",
    "    genes_LOC = np.array([ re.search('LOC\\d', s) is not None for s in gene_names ])\n",
    "    genes_AA = np.array([ re.search('^[A-Z]{2}\\d*$', s) is not None for s in gene_names ])\n",
    "\n",
    "    skewed_genes = np.array([gene not in thresholded_geneset for gene in gene_names])\n",
    "    \n",
    "    keep_genes = np.logical_not(genes_Rik + genes_Gm + genes_LOC + genes_AA + skewed_genes) \n",
    "    \n",
    "    return keep_genes\n",
    "\n",
    "def load_data_zeisel_2018():\n",
    "    \"\"\"\n",
    "    Load the scRNAseq data from Zeisel et al., 2018.\n",
    "\n",
    "    Returns:\n",
    "        exons_subset: n cells x n genes matrix pandas.Dataframe of read counts plus cell metadata\n",
    "        gene_names: pandas.Series of gene names\n",
    "\n",
    "    \"\"\"\n",
    "    exons_subset = pd.read_csv('/camp/lab/znamenskiyp/home/shared/resources/zeisel_2018/sensory_df.csv')\n",
    "    gene_names = pd.Series(pd.read_csv('/camp/lab/znamenskiyp/home/shared/resources/zeisel_2018/gene_names.csv').to_numpy().flatten(), name='gene_symbol')\n",
    "\n",
    "    return exons_subset, gene_names\n",
    "\n",
    "def load_data_sharma_2020(filter=False):\n",
    "    \"\"\"\n",
    "    Load the scRNAseq data from Sharma et al., 2020.\n",
    "\n",
    "    Returns:\n",
    "        exons_subset: n cells x n genes matrix pandas.Dataframe of read counts plus cell metadata\n",
    "        gene_names: pandas.Series of gene names\n",
    "\n",
    "    \"\"\"\n",
    "    resources_path = '/camp/lab/znamenskiyp/home/shared/resources/sharma_2020/'\n",
    "    exons_subset = pd.DataFrame(np.load(resources_path + 'sharma_expression_matrix.npy'))\n",
    "    sharma_cell_types = pd.read_csv(resources_path +\"sharma_2020_GSM4130750_WT_1.csv\", sep=',', header=None, nrows=1).to_numpy()[0][1:]\n",
    "    exons_subset = pd.concat([pd.Series(sharma_cell_types, name='ClusterName'), exons_subset], axis=1)\n",
    "    sharma_gene_names = pd.read_csv(resources_path + \"sharma_2020_GSM4130750_WT_1.csv\", sep=',', header=None, usecols=[0], skiprows=[0,1,2]).to_numpy().flatten()\n",
    "    gene_names = pd.Series(sharma_gene_names, name='gene_symbol')\n",
    "    \n",
    "    if filter:\n",
    "        keep_genes = filter_genes(gene_names)\n",
    "        gene_names = gene_names.iloc[keep_genes]\n",
    "        exons_subset = exons_subset[exons_subset.columns[np.insert(keep_genes, 0, True)]]\n",
    "    \n",
    "    return exons_subset, gene_names"
   ]
  },
  {
   "cell_type": "code",
   "execution_count": null,
   "metadata": {
    "scrolled": true
   },
   "outputs": [],
   "source": [
    "exons_df_curated, gene_names_curated = load_data_zeisel_2018()"
   ]
  },
  {
   "cell_type": "code",
   "execution_count": 68,
   "metadata": {},
   "outputs": [],
   "source": [
    "exons_df_sharma, gene_names_sharma = load_data_sharma_2020()"
   ]
  },
  {
   "cell_type": "code",
   "execution_count": 70,
   "metadata": {},
   "outputs": [],
   "source": [
    "#split into test and train groups\n",
    "train_sharma, test_sharma, cluster_labels_sharma = iss.pick_genes.train_test_split(\n",
    "    exons_df_sharma,\n",
    "    'ClusterName',\n",
    "    gene_filter = '\\d',\n",
    "    efficiency = 0.5\n",
    ")\n",
    "\n",
    "#compute mean expression for each cluster and gene\n",
    "exons_matrix_sharma, cluster_ids_sharma, cluster_means_sharma, cluster_labels_sharma = iss.pick_genes.compute_means(\n",
    "    exons_df_sharma,\n",
    "    'ClusterName',\n",
    "    gene_filter='\\d'\n",
    ")\n",
    "\n",
    "#resample counts to account for efficiency of iss\n",
    "resampled_exons_matrix_sharma, resampled_cluster_means_sharma = iss.pick_genes.resample_counts(\n",
    "    exons_matrix_sharma,\n",
    "    cluster_means_sharma,\n",
    "    efficiency=0.5\n",
    ")\n",
    "\n",
    "#precompute cluster probabilities\n",
    "cluster_probs_sharma = iss.pick_genes.compute_cluster_probabilities(\n",
    "    resampled_exons_matrix_sharma.astype('float'),\n",
    "    resampled_cluster_means_sharma,\n",
    "    nu=0.001\n",
    ")"
   ]
  },
  {
   "cell_type": "code",
   "execution_count": 71,
   "metadata": {},
   "outputs": [],
   "source": [
    "def optimize_gene_set(cluster_probs, cluster_ids, gene_names, gene_set=(),\n",
    "                      niter=100, subsample_cells=1):\n",
    "    gene_set_history = []\n",
    "    accuracy_history = []\n",
    "    ordered_gene_list = []\n",
    "    include_genes = np.isin(np.array(gene_names), gene_set)\n",
    "    for i in range(niter):\n",
    "        if subsample_cells < 1:\n",
    "            cell_idx = np.random.rand(cluster_probs.shape[0]) < subsample_cells\n",
    "            b, accuracy = iss.pick_genes.next_best_gene(include_genes, cluster_probs[cell_idx,:,:], cluster_ids[cell_idx])\n",
    "        else:\n",
    "            b, accuracy = iss.pick_genes.next_best_gene(include_genes, cluster_probs, cluster_ids)\n",
    "\n",
    "        include_genes[b] = True\n",
    "        print(f'added {gene_names.iloc[b]}, accuracy = {accuracy}')\n",
    "        ordered_gene_list.append(gene_names.iloc[b])\n",
    "        \n",
    "        gene_set_history.append(include_genes)\n",
    "        accuracy_history.append(accuracy)\n",
    "    return include_genes, gene_set_history, accuracy_history, ordered_gene_list"
   ]
  },
  {
   "cell_type": "code",
   "execution_count": 74,
   "metadata": {
    "scrolled": false
   },
   "outputs": [
    {
     "name": "stderr",
     "output_type": "stream",
     "text": [
      "                                                                                                                                          \r"
     ]
    },
    {
     "name": "stdout",
     "output_type": "stream",
     "text": [
      "added Cd24a, accuracy = 0.31636592153694226\n"
     ]
    },
    {
     "name": "stderr",
     "output_type": "stream",
     "text": [
      "                                                                                                                                          \r"
     ]
    },
    {
     "name": "stdout",
     "output_type": "stream",
     "text": [
      "added Rgs10, accuracy = 0.5026483526348864\n"
     ]
    },
    {
     "name": "stderr",
     "output_type": "stream",
     "text": [
      "                                                                                                                                          \r"
     ]
    },
    {
     "name": "stdout",
     "output_type": "stream",
     "text": [
      "added Ngfr, accuracy = 0.6326420684082952\n"
     ]
    },
    {
     "name": "stderr",
     "output_type": "stream",
     "text": [
      "                                                                                                                                          \r"
     ]
    },
    {
     "name": "stdout",
     "output_type": "stream",
     "text": [
      "added Tmem233, accuracy = 0.7050004488733279\n"
     ]
    },
    {
     "name": "stderr",
     "output_type": "stream",
     "text": [
      "                                                                                                                                          \r"
     ]
    },
    {
     "name": "stdout",
     "output_type": "stream",
     "text": [
      "added Calca, accuracy = 0.75177304964539\n"
     ]
    },
    {
     "name": "stderr",
     "output_type": "stream",
     "text": [
      "                                                                                                                                          \r"
     ]
    },
    {
     "name": "stdout",
     "output_type": "stream",
     "text": [
      "added Cntn1, accuracy = 0.7843612532543316\n"
     ]
    },
    {
     "name": "stderr",
     "output_type": "stream",
     "text": [
      "                                                                                                                                          \r"
     ]
    },
    {
     "name": "stdout",
     "output_type": "stream",
     "text": [
      "added Fxyd2, accuracy = 0.8147050902235389\n"
     ]
    },
    {
     "name": "stderr",
     "output_type": "stream",
     "text": [
      "                                                                                                                                          \r"
     ]
    },
    {
     "name": "stdout",
     "output_type": "stream",
     "text": [
      "added Ntrk2, accuracy = 0.829966783373732\n"
     ]
    },
    {
     "name": "stderr",
     "output_type": "stream",
     "text": [
      "                                                                                                                                          \r"
     ]
    },
    {
     "name": "stdout",
     "output_type": "stream",
     "text": [
      "added Nts, accuracy = 0.8437023072089056\n"
     ]
    },
    {
     "name": "stderr",
     "output_type": "stream",
     "text": [
      "                                                                                                                                          \r"
     ]
    },
    {
     "name": "stdout",
     "output_type": "stream",
     "text": [
      "added Jak1, accuracy = 0.8516922524463596\n"
     ]
    },
    {
     "name": "stderr",
     "output_type": "stream",
     "text": [
      "                                                                                                                                          \r"
     ]
    },
    {
     "name": "stdout",
     "output_type": "stream",
     "text": [
      "added Fxyd6, accuracy = 0.8617470149923692\n"
     ]
    },
    {
     "name": "stderr",
     "output_type": "stream",
     "text": [
      "                                                                                                                                          \r"
     ]
    },
    {
     "name": "stdout",
     "output_type": "stream",
     "text": [
      "added Ntrk3, accuracy = 0.8698267348954125\n"
     ]
    },
    {
     "name": "stderr",
     "output_type": "stream",
     "text": [
      "                                                                                                                                          \r"
     ]
    },
    {
     "name": "stdout",
     "output_type": "stream",
     "text": [
      "added Nbl1, accuracy = 0.875033665499596\n"
     ]
    },
    {
     "name": "stderr",
     "output_type": "stream",
     "text": [
      "                                                                                                                                          \r"
     ]
    },
    {
     "name": "stdout",
     "output_type": "stream",
     "text": [
      "added Tac1, accuracy = 0.8811383427596732\n"
     ]
    },
    {
     "name": "stderr",
     "output_type": "stream",
     "text": [
      "                                                                                                                                          \r"
     ]
    },
    {
     "name": "stdout",
     "output_type": "stream",
     "text": [
      "added Pvalb, accuracy = 0.8874225693509291\n"
     ]
    },
    {
     "name": "stderr",
     "output_type": "stream",
     "text": [
      "                                                                                                                                          \r"
     ]
    },
    {
     "name": "stdout",
     "output_type": "stream",
     "text": [
      "added Fxyd7, accuracy = 0.8916419786336296\n"
     ]
    },
    {
     "name": "stderr",
     "output_type": "stream",
     "text": [
      "                                                                                                                                          \r"
     ]
    },
    {
     "name": "stdout",
     "output_type": "stream",
     "text": [
      "added Synpr, accuracy = 0.8962204865786875\n"
     ]
    },
    {
     "name": "stderr",
     "output_type": "stream",
     "text": [
      "                                                                                                                                          \r"
     ]
    },
    {
     "name": "stdout",
     "output_type": "stream",
     "text": [
      "added Pcp4, accuracy = 0.9002603465302091\n"
     ]
    },
    {
     "name": "stderr",
     "output_type": "stream",
     "text": [
      "                                                                                                                                          \r"
     ]
    },
    {
     "name": "stdout",
     "output_type": "stream",
     "text": [
      "added Clec2l, accuracy = 0.9031331358290691\n"
     ]
    },
    {
     "name": "stderr",
     "output_type": "stream",
     "text": [
      "                                                                                                                                          \r"
     ]
    },
    {
     "name": "stdout",
     "output_type": "stream",
     "text": [
      "added Gal, accuracy = 0.9056468264655714\n"
     ]
    },
    {
     "name": "stderr",
     "output_type": "stream",
     "text": [
      "                                                                                                                                          \r"
     ]
    },
    {
     "name": "stdout",
     "output_type": "stream",
     "text": [
      "added Rgs5, accuracy = 0.9076218691085376\n"
     ]
    },
    {
     "name": "stderr",
     "output_type": "stream",
     "text": [
      "                                                                                                                                          \r"
     ]
    },
    {
     "name": "stdout",
     "output_type": "stream",
     "text": [
      "added Crip1, accuracy = 0.9121106023880061\n"
     ]
    },
    {
     "name": "stderr",
     "output_type": "stream",
     "text": [
      "                                                                                                                                          \r"
     ]
    },
    {
     "name": "stdout",
     "output_type": "stream",
     "text": [
      "added Tmem158, accuracy = 0.9137265463686147\n"
     ]
    },
    {
     "name": "stderr",
     "output_type": "stream",
     "text": [
      "                                                                                                                                          \r"
     ]
    },
    {
     "name": "stdout",
     "output_type": "stream",
     "text": [
      "added Gm7271, accuracy = 0.9151629410180447\n"
     ]
    },
    {
     "name": "stderr",
     "output_type": "stream",
     "text": [
      "                                                                                                                                          \r"
     ]
    },
    {
     "name": "stdout",
     "output_type": "stream",
     "text": [
      "added Chchd10, accuracy = 0.9174970823233684\n"
     ]
    },
    {
     "name": "stderr",
     "output_type": "stream",
     "text": [
      "                                                                                                                                          \r"
     ]
    },
    {
     "name": "stdout",
     "output_type": "stream",
     "text": [
      "added Sox11, accuracy = 0.9183050543136727\n"
     ]
    },
    {
     "name": "stderr",
     "output_type": "stream",
     "text": [
      "                                                                                                                                          \r"
     ]
    },
    {
     "name": "stdout",
     "output_type": "stream",
     "text": [
      "added Cd44, accuracy = 0.9189334769727983\n"
     ]
    },
    {
     "name": "stderr",
     "output_type": "stream",
     "text": [
      "                                                                                                                                          \r"
     ]
    },
    {
     "name": "stdout",
     "output_type": "stream",
     "text": [
      "added Hopx, accuracy = 0.9194721249663345\n"
     ]
    },
    {
     "name": "stderr",
     "output_type": "stream",
     "text": [
      "                                                                                                                                          \r"
     ]
    },
    {
     "name": "stdout",
     "output_type": "stream",
     "text": [
      "added Sprr1a, accuracy = 0.9199209982942813\n"
     ]
    },
    {
     "name": "stderr",
     "output_type": "stream",
     "text": [
      "                                                                                                                                          \r"
     ]
    },
    {
     "name": "stdout",
     "output_type": "stream",
     "text": [
      "added Prkca, accuracy = 0.9203698716222282\n"
     ]
    },
    {
     "name": "stderr",
     "output_type": "stream",
     "text": [
      "                                                                                                                                          \r"
     ]
    },
    {
     "name": "stdout",
     "output_type": "stream",
     "text": [
      "added Piezo2, accuracy = 0.9213573929437113\n"
     ]
    },
    {
     "name": "stderr",
     "output_type": "stream",
     "text": [
      "                                                                                                                                          \r"
     ]
    },
    {
     "name": "stdout",
     "output_type": "stream",
     "text": [
      "added Wbp5, accuracy = 0.9218960409372475\n"
     ]
    },
    {
     "name": "stderr",
     "output_type": "stream",
     "text": [
      "                                                                                                                                          \r"
     ]
    },
    {
     "name": "stdout",
     "output_type": "stream",
     "text": [
      "added Rarres1, accuracy = 0.9218960409372475\n"
     ]
    },
    {
     "name": "stderr",
     "output_type": "stream",
     "text": [
      "                                                                                                                                          \r"
     ]
    },
    {
     "name": "stdout",
     "output_type": "stream",
     "text": [
      "added Lgals1, accuracy = 0.9218960409372475\n"
     ]
    },
    {
     "name": "stderr",
     "output_type": "stream",
     "text": [
      "                                                                                                                                          \r"
     ]
    },
    {
     "name": "stdout",
     "output_type": "stream",
     "text": [
      "added Scn7a, accuracy = 0.9216267169404794\n"
     ]
    },
    {
     "name": "stderr",
     "output_type": "stream",
     "text": [
      "                                                                                                                                          \r"
     ]
    },
    {
     "name": "stdout",
     "output_type": "stream",
     "text": [
      "added Hn1, accuracy = 0.92153694227489\n"
     ]
    },
    {
     "name": "stderr",
     "output_type": "stream",
     "text": [
      "                                                                                                                                          \r"
     ]
    },
    {
     "name": "stdout",
     "output_type": "stream",
     "text": [
      "added Ppp1r1a, accuracy = 0.9206391956189963\n"
     ]
    },
    {
     "name": "stderr",
     "output_type": "stream",
     "text": [
      "                                                                                                                                          \r"
     ]
    },
    {
     "name": "stdout",
     "output_type": "stream",
     "text": [
      "added Pmp22, accuracy = 0.920818744950175\n"
     ]
    },
    {
     "name": "stderr",
     "output_type": "stream",
     "text": [
      "                                                                                                                                          \r"
     ]
    },
    {
     "name": "stdout",
     "output_type": "stream",
     "text": [
      "added Ctxn3, accuracy = 0.9204596462878176\n"
     ]
    },
    {
     "name": "stderr",
     "output_type": "stream",
     "text": [
      "                                                                                                                                          \r"
     ]
    },
    {
     "name": "stdout",
     "output_type": "stream",
     "text": [
      "added Cpne3, accuracy = 0.9201005476254601\n"
     ]
    },
    {
     "name": "stderr",
     "output_type": "stream",
     "text": [
      "                                                                                                                                          \r"
     ]
    },
    {
     "name": "stdout",
     "output_type": "stream",
     "text": [
      "added Lxn, accuracy = 0.9206391956189963\n"
     ]
    },
    {
     "name": "stderr",
     "output_type": "stream",
     "text": [
      "                                                                                                                                          \r"
     ]
    },
    {
     "name": "stdout",
     "output_type": "stream",
     "text": [
      "added Nefm, accuracy = 0.9197414489631026\n"
     ]
    },
    {
     "name": "stderr",
     "output_type": "stream",
     "text": [
      "                                                                                                                                          \r"
     ]
    },
    {
     "name": "stdout",
     "output_type": "stream",
     "text": [
      "added S100b, accuracy = 0.9190232516383876\n"
     ]
    },
    {
     "name": "stderr",
     "output_type": "stream",
     "text": [
      "                                                                                                                                          \r"
     ]
    },
    {
     "name": "stdout",
     "output_type": "stream",
     "text": [
      "added Cdkn1a, accuracy = 0.9187539276416196\n"
     ]
    },
    {
     "name": "stderr",
     "output_type": "stream",
     "text": [
      "                                                                                                                                          \r"
     ]
    },
    {
     "name": "stdout",
     "output_type": "stream",
     "text": [
      "added Gng2, accuracy = 0.9179459556513152\n"
     ]
    },
    {
     "name": "stderr",
     "output_type": "stream",
     "text": [
      "                                                                                                                                          \r"
     ]
    },
    {
     "name": "stdout",
     "output_type": "stream",
     "text": [
      "added Hspb1, accuracy = 0.9171379836610108\n"
     ]
    },
    {
     "name": "stderr",
     "output_type": "stream",
     "text": [
      "                                                                                                                                          \r"
     ]
    },
    {
     "name": "stdout",
     "output_type": "stream",
     "text": [
      "added S100a11, accuracy = 0.9168686596642428\n"
     ]
    },
    {
     "name": "stderr",
     "output_type": "stream",
     "text": [
      "                                                                                                                                          \r"
     ]
    },
    {
     "name": "stdout",
     "output_type": "stream",
     "text": [
      "added Tagln3, accuracy = 0.9158811383427596\n"
     ]
    },
    {
     "name": "stderr",
     "output_type": "stream",
     "text": [
      "                                                                                                                                          \r"
     ]
    },
    {
     "name": "stdout",
     "output_type": "stream",
     "text": [
      "added Ctnnbip1, accuracy = 0.9155220396804022\n"
     ]
    },
    {
     "name": "stderr",
     "output_type": "stream",
     "text": [
      "                                                                                                                                          \r"
     ]
    },
    {
     "name": "stdout",
     "output_type": "stream",
     "text": [
      "added Ly86, accuracy = 0.9148936170212766\n"
     ]
    },
    {
     "name": "stderr",
     "output_type": "stream",
     "text": [
      "                                                                                                                                          \r"
     ]
    },
    {
     "name": "stdout",
     "output_type": "stream",
     "text": [
      "added Ostf1, accuracy = 0.914265194362151\n"
     ]
    },
    {
     "name": "stderr",
     "output_type": "stream",
     "text": [
      "                                                                                                                                          \r"
     ]
    },
    {
     "name": "stdout",
     "output_type": "stream",
     "text": [
      "added Thy1, accuracy = 0.9130981237094892\n"
     ]
    },
    {
     "name": "stderr",
     "output_type": "stream",
     "text": [
      "                                                                                                                                          \r"
     ]
    },
    {
     "name": "stdout",
     "output_type": "stream",
     "text": [
      "added Srxn1, accuracy = 0.9120208277224168\n"
     ]
    },
    {
     "name": "stderr",
     "output_type": "stream",
     "text": [
      "                                                                                                                                          \r"
     ]
    },
    {
     "name": "stdout",
     "output_type": "stream",
     "text": [
      "added Cox5a, accuracy = 0.9107639824041656\n"
     ]
    },
    {
     "name": "stderr",
     "output_type": "stream",
     "text": [
      "                                                                                                                                          \r"
     ]
    },
    {
     "name": "stdout",
     "output_type": "stream",
     "text": [
      "added Iqsec2, accuracy = 0.9104048837418081\n"
     ]
    },
    {
     "name": "stderr",
     "output_type": "stream",
     "text": [
      "                                                                                                                                          \r"
     ]
    },
    {
     "name": "stdout",
     "output_type": "stream",
     "text": [
      "added Ubb, accuracy = 0.9089684890923782\n"
     ]
    },
    {
     "name": "stderr",
     "output_type": "stream",
     "text": [
      "                                                                                                                                          \r"
     ]
    },
    {
     "name": "stdout",
     "output_type": "stream",
     "text": [
      "added Phf24, accuracy = 0.9066343477870545\n"
     ]
    },
    {
     "name": "stderr",
     "output_type": "stream",
     "text": [
      "                                                                                                                                          \r"
     ]
    },
    {
     "name": "stdout",
     "output_type": "stream",
     "text": [
      "added Nefh, accuracy = 0.9051081784720352\n"
     ]
    },
    {
     "name": "stderr",
     "output_type": "stream",
     "text": [
      "                                                                                                                                          \r"
     ]
    },
    {
     "name": "stdout",
     "output_type": "stream",
     "text": [
      "added Fez1, accuracy = 0.9020558398419966\n"
     ]
    },
    {
     "name": "stderr",
     "output_type": "stream",
     "text": [
      "                                                                                                                                          \r"
     ]
    },
    {
     "name": "stdout",
     "output_type": "stream",
     "text": [
      "added Txn1, accuracy = 0.8985546278840111\n"
     ]
    },
    {
     "name": "stderr",
     "output_type": "stream",
     "text": [
      "                                                                                                                                          "
     ]
    },
    {
     "name": "stdout",
     "output_type": "stream",
     "text": [
      "added Calca, accuracy = 0.0\n"
     ]
    },
    {
     "name": "stderr",
     "output_type": "stream",
     "text": [
      "\r"
     ]
    }
   ],
   "source": [
    "# Select genes by running the optimization procedure\n",
    "include_genes_sharma, gene_set_history_sharma, accuracy_history_sharma, ordered_gene_list_sharma = optimize_gene_set(\n",
    "    cluster_probs_sharma, cluster_ids_sharma, gene_names_sharma, niter=60, subsample_cells=1)"
   ]
  },
  {
   "cell_type": "code",
   "execution_count": 151,
   "metadata": {},
   "outputs": [
    {
     "data": {
      "text/plain": [
       "[<matplotlib.lines.Line2D at 0x7f11aac0eb00>]"
      ]
     },
     "execution_count": 151,
     "metadata": {},
     "output_type": "execute_result"
    },
    {
     "data": {
      "image/png": "[encoded data removed]",
      "text/plain": [
       "<Figure size 432x288 with 1 Axes>"
      ]
     },
     "metadata": {
      "needs_background": "light"
     },
     "output_type": "display_data"
    }
   ],
   "source": [
    "plt.plot(accuracy_history_sharma)"
   ]
  },
  {
   "cell_type": "code",
   "execution_count": 78,
   "metadata": {},
   "outputs": [],
   "source": [
    "from sklearn.metrics import confusion_matrix, ConfusionMatrixDisplay\n",
    "\n",
    "def lognbinom(k, mu):\n",
    "    \"\"\"\n",
    "    Log negative binomial PDF with r = 2.\n",
    "\n",
    "    Fixing r to 2 is very computationally convenient because we don't need to\n",
    "    compute any factorials.\n",
    "\n",
    "    Args:\n",
    "        k: counts\n",
    "        mu: mean parameter\n",
    "\n",
    "    Returns:\n",
    "        Log negative binomial probability.\n",
    "\n",
    "    \"\"\"\n",
    "    return np.log(k + 1) + np.log(mu / (mu + 2)) * k + np.log(2/(mu + 2)) * 2\n",
    "\n",
    "def classify_cells(exons_matrix, cluster_means, gene_set, gene_names, nu=0.001):\n",
    "    \"\"\"\n",
    "    Classify cells using a provided gene set.\n",
    "\n",
    "    Args:\n",
    "        exons_matrix: n cells x n genes matrix (numpy.ndarray) of read counts\n",
    "        cluster_means: n clusters x n genes matrix (numpy.ndarray) of mean read\n",
    "            counts for each cluster\n",
    "        gene_set: list of genes to use for classification\n",
    "        gene_names: list of genes corresponding to columns of exons_matrix\n",
    "        nu: optional parameter added to the means of each cluster to \"regularize\"\n",
    "            them. Otherwise any clusters with mean of 0 will have 0 probability\n",
    "            of observing >0 reads.\n",
    "\n",
    "    Returns:\n",
    "        numpy.array of cluster assignments for each cell\n",
    "\n",
    "    \"\"\"\n",
    "    include_genes = np.isin(np.array(gene_names), gene_set)\n",
    "    cell_probs = np.empty((exons_matrix.shape[0], cluster_means.shape[0]))\n",
    "    for i, cluster in enumerate(cluster_means):\n",
    "        cell_probs[:,i] = lognbinom(exons_matrix[:, include_genes], cluster[include_genes] + nu).sum(axis=1)\n",
    "    cluster_assignments = cell_probs.argmax(axis=1)\n",
    "    return cluster_assignments\n",
    "\n",
    "def plot_confusion_matrix(cluster_ids, cluster_assignments, cluster_labels,\n",
    "                          display_counts=True):\n",
    "    \"\"\"\n",
    "    Plot a confusion matrix for the provided cluster assignments.\n",
    "\n",
    "    Args:\n",
    "        cluster_ids: numpy.array of \"true\" cluster ids\n",
    "        cluster_assignments: numpy.array of cluster assignments\n",
    "        cluster_labels: list of cluster names\n",
    "        display_counts: (Default: True) whether to show counts or normalized\n",
    "            proportions\n",
    "\n",
    "    Returns:\n",
    "        Confusion matrix\n",
    "\n",
    "    \"\"\"\n",
    "    c = confusion_matrix(\n",
    "        cluster_ids,\n",
    "        cluster_assignments,\n",
    "    )\n",
    "\n",
    "    if display_counts:\n",
    "        normalize = None\n",
    "        include_values = True\n",
    "    else:\n",
    "        normalize = 'true'\n",
    "        include_values = False\n",
    "    plt.figure(figsize=(20,20))\n",
    "    ax = plt.subplot(111)\n",
    "    cfmatrix = ConfusionMatrixDisplay.from_predictions(\n",
    "        cluster_ids,\n",
    "        cluster_assignments,\n",
    "        display_labels=cluster_labels,\n",
    "        xticks_rotation='vertical',\n",
    "        cmap = plt.cm.get_cmap(\"magma_r\").copy(),\n",
    "        ax=ax,\n",
    "        normalize=normalize,\n",
    "        include_values=include_values,\n",
    "        colorbar = False\n",
    "    )\n",
    "    cfmatrix.im_.cmap.set_under('w')  # Change color to white\n",
    "    cfmatrix.im_.set_clim(0.01, 1)  # Set the limit beyond which everything is white\n",
    "    cfmatrix.ax_.xaxis.label.set_size(20)\n",
    "    cfmatrix.ax_.yaxis.label.set_size(20)\n",
    "    plt.xticks(fontsize=15)\n",
    "    plt.yticks(fontsize=15)\n",
    "    \n",
    "    cbar = cfmatrix.figure_.colorbar(cfmatrix.im_, ticks = [0.001,0.2,0.4,0.6,0.8,1], format = \"%.1f\",\n",
    "                              fraction=0.047, pad=0.015\n",
    "                             )\n",
    "    \n",
    "    cbar.set_label(label = 'Classification accuracy', size=20)\n",
    "    cbar.ax.tick_params(labelsize=20)\n",
    "    plt.draw()\n",
    "    figpath = '/nemo/lab/znamenskiyp/home/users/becalia/figs/'\n",
    "    plt.savefig(f'{figpath}norm_med_sharma_resampled_cluster_confusion_matrix.svg', format='svg')\n",
    "    plt.show()\n",
    "    return c"
   ]
  },
  {
   "cell_type": "code",
   "execution_count": 79,
   "metadata": {},
   "outputs": [
    {
     "data": {
      "image/png": "[encoded data removed]",
      "text/plain": [
       "<Figure size 1440x1440 with 2 Axes>"
      ]
     },
     "metadata": {
      "needs_background": "light"
     },
     "output_type": "display_data"
    },
    {
     "data": {
      "text/plain": [
       "array([[ 146,   42,    2,    0,    2,    0,    0,   31,    0,    0,   20,\n",
       "           0,   14,    0,    0,    0],\n",
       "       [   6,  203,   10,    0,    1,    0,    0,    2,    0,    0,    1,\n",
       "           0,   50,    0,    0,    0],\n",
       "       [   0,    2,  173,    0,    0,    1,    0,    3,    2,    0,    1,\n",
       "           0,    0,    0,    0,    0],\n",
       "       [   2,    0,    0, 1489,    0,    6,    0,    2,    6,   27,    7,\n",
       "           4,    0,    5,    4,    2],\n",
       "       [   0,    0,    0,    0, 1331,   53,   13,    0,   37,    0,    1,\n",
       "           0,    1,    0,    2,    2],\n",
       "       [   0,    0,    0,    0,    2,  127,    0,    0,    3,    0,    0,\n",
       "           0,    0,    0,    3,    0],\n",
       "       [   0,    0,    0,    0,   56,    8,  727,    0,   31,    2,   26,\n",
       "           0,    0,    0,    0,    0],\n",
       "       [  19,    2,    0,    0,    5,    2,    1,  222,    2,    1,    7,\n",
       "           0,    9,    0,    0,    0],\n",
       "       [   0,    0,    0,    0,   75,   66,   43,   24,  481,    1,   12,\n",
       "           0,    3,    0,    0,    0],\n",
       "       [   0,    0,    0,    0,    4,    0,   25,    0,    0,  711,    0,\n",
       "           1,    0,   12,    0,    5],\n",
       "       [  31,    2,    0,    0,    7,    0,   22,   25,    3,    1,  238,\n",
       "           0,    4,    0,    0,    0],\n",
       "       [   0,    0,    0,    2,    2,    3,   14,    0,    0,   80,    1,\n",
       "        2659,    1,   48,    1,    6],\n",
       "       [   0,    2,    0,    0,    1,    0,    1,    0,    0,    1,    1,\n",
       "           0,  227,    1,    0,    0],\n",
       "       [   0,    0,    0,    0,    0,    3,    0,    0,    0,    2,    0,\n",
       "           0,    0,  749,    0,    7],\n",
       "       [   0,    6,    0,    0,    4,   12,    0,    0,    3,    0,    1,\n",
       "           0,    8,    0,  454,    0],\n",
       "       [   0,    0,    0,    0,    3,    2,    2,    0,    1,    1,    0,\n",
       "           0,    0,    0,    1,   72]])"
      ]
     },
     "execution_count": 79,
     "metadata": {},
     "output_type": "execute_result"
    }
   ],
   "source": [
    "# Plot confusion matrix for the final gene set\n",
    "cluster_assignments = classify_cells(resampled_exons_matrix_sharma, resampled_cluster_means_sharma, skewed_geneset, gene_names_sharma, nu=0.001)\n",
    "plot_confusion_matrix(cluster_ids_sharma, cluster_assignments, cluster_labels_sharma, display_counts=False)"
   ]
  },
  {
   "cell_type": "code",
   "execution_count": 7,
   "metadata": {},
   "outputs": [
    {
     "data": {
      "text/plain": [
       "array([[486, 162, 136, 1.722996802088726, 123.0, 'Tmsb4x'],\n",
       "       [350, 99, 130, 1.1771431877379224, 91.0, 'Fxyd2'],\n",
       "       [324, 84, 81, 1.9658183556852036, 63.0, 'Sncg'],\n",
       "       [220, 129, 46, 0.9268346717071435, 136.0, 'mt-Co1'],\n",
       "       [208, 123, 52, 1.406579569608062, 121.0, 'Fth1'],\n",
       "       [201, 104, 48, 1.5070140199021327, 102.0, 'mt-Atp6'],\n",
       "       [165, 53, 38, 2.8295373724442334, 30.0, 'Ppia'],\n",
       "       [157, 43, 39, 2.153230503724346, 29.0, 'Tppp3'],\n",
       "       [152, 81, 34, 1.148628282739695, 79.0, 'Sepw1'],\n",
       "       [149, 67, 41, 1.0200426156402118, 71.0, 'Ftl1'],\n",
       "       [141, 55, 43, 2.040041368401619, 46.0, 'Malat1'],\n",
       "       [141, 78, 32, 1.2655418741642541, 76.0, 'mt-Nd1'],\n",
       "       [129, 34, 29, 3.42173253082157, 17.0, 'Ndufa4'],\n",
       "       [124, 39, 35, 1.684186959205068, 31.0, 'S100a6'],\n",
       "       [122, 39, 26, 2.534038689808725, 29.0, 'Cox8a'],\n",
       "       [119, 40, 30, 1.865723224531813, 34.0, 'Sh3bgrl3'],\n",
       "       [117, 38, 24, 2.9091699786102563, 26.0, 'Cox4i1'],\n",
       "       [114, 21, 29, 2.425820505426023, 10.0, 'Txn1'],\n",
       "       [112, 64, 29, 3.629579853900273, 28.0, 'Actb'],\n",
       "       [111, 21, 26, 1.8802135641856355, 21.0, 'Cd24a']], dtype=object)"
      ]
     },
     "execution_count": 7,
     "metadata": {},
     "output_type": "execute_result"
    }
   ],
   "source": [
    "# Generate cluster mean stats for selecting thresholds for gene cutoffs\n",
    "\n",
    "from scipy.stats import skew\n",
    "\n",
    "max_cluster_means = []\n",
    "count = -1\n",
    "for array in cluster_means_sharma:\n",
    "    for gene in array:\n",
    "        count +=1\n",
    "        max_cluster_means.append(max(cluster_means_sharma[:,count]))\n",
    "    if count > 20922:\n",
    "            break\n",
    "max_cluster_means = np.asarray(max_cluster_means)\n",
    "\n",
    "mean_cluster_means = []\n",
    "count = -1\n",
    "for array in cluster_means_sharma:\n",
    "    for gene in array:\n",
    "        count +=1\n",
    "        mean_cluster_means.append(np.mean(cluster_means_sharma[:,count]))\n",
    "    if count > 20922:\n",
    "            break\n",
    "mean_cluster_means = np.asarray(mean_cluster_means)\n",
    "\n",
    "\n",
    "std_cluster_means = []\n",
    "count = -1\n",
    "for array in cluster_means_sharma:\n",
    "    for gene in array:\n",
    "        count +=1\n",
    "        std_cluster_means.append(np.std(cluster_means_sharma[:,count]))\n",
    "    if count > 20922:\n",
    "            break\n",
    "std_cluster_means = np.asarray(std_cluster_means)\n",
    "\n",
    "skew_cluster_means = []\n",
    "count = -1\n",
    "for array in cluster_means_sharma:\n",
    "    for gene in array:\n",
    "        count +=1\n",
    "        skew_cluster_means.append(skew(cluster_means_sharma[:,count]))\n",
    "    if count > 20922:\n",
    "            break\n",
    "skew_cluster_means = np.asarray(skew_cluster_means)\n",
    "\n",
    "median_cluster_means = []\n",
    "count = -1\n",
    "for array in cluster_means_sharma:\n",
    "    for gene in array:\n",
    "        count +=1\n",
    "        median_cluster_means.append(np.median(cluster_means_sharma[:,count]))\n",
    "    if count > 20922:\n",
    "            break\n",
    "median_cluster_means = np.asarray(median_cluster_means)\n",
    "\n",
    "\n",
    "skew_values = []\n",
    "for gene in np.swapaxes(exons_matrix_sharma,0,1):\n",
    "    skew_values.append(skew(gene))\n",
    "skew_values = np.asarray(skew_values)\n",
    "\n",
    "median_values = []\n",
    "for gene in np.swapaxes(exons_matrix_sharma,0,1):\n",
    "    median_values.append(np.median(gene))\n",
    "np.shape(median_values)\n",
    "median_values = np.asarray(median_values)\n",
    "\n",
    "geneinds = max_cluster_means.argsort()\n",
    "\n",
    "sorted_max_cluster_means = max_cluster_means[geneinds[::-1]].astype(int)\n",
    "sorted_mean_cluster_means = mean_cluster_means[geneinds[::-1]].astype(int)\n",
    "sorted_std_cluster_means = std_cluster_means[geneinds[::-1]].astype(int)\n",
    "sorted_skew_values = skew_values[geneinds[::-1]]\n",
    "sorted_median_values = median_values[geneinds[::-1]]\n",
    "sorted_skew_cluster_means = skew_cluster_means[geneinds[::-1]]\n",
    "sorted_median_cluster_means = median_cluster_means[geneinds[::-1]].astype(int)\n",
    "sorted_gene_names = np.asarray(gene_names_sharma)[geneinds[::-1]]\n",
    "\n",
    "genes_and_counts = np.stack([sorted_max_cluster_means, sorted_mean_cluster_means, sorted_std_cluster_means,\n",
    "                             sorted_skew_values, sorted_skew_cluster_means, sorted_median_values,\n",
    "                             sorted_median_cluster_means, sorted_gene_names], axis=1)\n",
    "\n",
    "genes_and_counts_df = pd.DataFrame(genes_and_counts, columns = ['max', 'mean', 'std', 'skew',\n",
    "                                                                'skew_cluster', 'median', 'median_cluster', 'gene_names'])\n",
    "genes_and_counts_df"
   ]
  },
  {
   "cell_type": "code",
   "execution_count": 62,
   "metadata": {
    "scrolled": false
   },
   "outputs": [
    {
     "name": "stdout",
     "output_type": "stream",
     "text": [
      "15.0\n",
      "5.0\n"
     ]
    },
    {
     "data": {
      "text/plain": [
       "['Fxyd2',\n",
       " 'Txn1',\n",
       " 'Cd24a',\n",
       " 'Cox5a',\n",
       " 'Fxyd7',\n",
       " 'Rgs10',\n",
       " 'Ubb',\n",
       " 'Calca',\n",
       " 'Lgals1',\n",
       " 'Nts',\n",
       " 'Chchd10',\n",
       " 'Pcp4',\n",
       " 'Tac1',\n",
       " 'Jak1',\n",
       " 'S100b',\n",
       " 'Tagln3',\n",
       " 'Tmem233',\n",
       " 'Ostf1',\n",
       " 'Nefm',\n",
       " 'Pmp22',\n",
       " 'Thy1',\n",
       " 'Ngfr',\n",
       " 'Phf24',\n",
       " 'Ctxn3',\n",
       " 'Nefh',\n",
       " 'Hn1',\n",
       " 'Cntn1',\n",
       " 'Lxn',\n",
       " 'Gm7271',\n",
       " 'Scn7a',\n",
       " 'Ntrk3',\n",
       " 'Hspb1',\n",
       " 'Fez1',\n",
       " 'S100a11',\n",
       " 'Gng2',\n",
       " 'Cdkn1a',\n",
       " 'Hopx',\n",
       " 'Ppp1r1a',\n",
       " 'Cpne3',\n",
       " 'Ntrk2',\n",
       " 'Synpr',\n",
       " 'Pvalb',\n",
       " 'Piezo2',\n",
       " 'Crip1',\n",
       " 'Sprr1a',\n",
       " '6330403K07Rik',\n",
       " 'Rgs5',\n",
       " 'Wbp5',\n",
       " 'Gal',\n",
       " 'Tmem158',\n",
       " 'Fxyd6',\n",
       " 'Cd44',\n",
       " 'Ly86',\n",
       " 'Clec2l',\n",
       " 'Rarres1',\n",
       " 'Nbl1',\n",
       " 'Prkca',\n",
       " 'Srxn1',\n",
       " 'Ctnnbip1',\n",
       " 'Sox11',\n",
       " 'Iqsec2']"
      ]
     },
     "execution_count": 62,
     "metadata": {},
     "output_type": "execute_result"
    }
   ],
   "source": [
    "# Define thresholded gene set\n",
    "\n",
    "perc_max = np.percentile(genes_and_counts_df['max'], 98)\n",
    "print(perc_max)\n",
    "perc_median = np.percentile(genes_and_counts_df['median_cluster'], 98)\n",
    "genes_and_counts_df['norm_median'] = genes_and_counts_df['median_cluster'].astype(int).divide(genes_and_counts_df['max'].astype(int))\n",
    "genes_and_counts_df['norm_median'].fillna(0, inplace=True)\n",
    "print(perc_median)\n",
    "thresholded_geneset = genes_and_counts_df.query(f' max > {perc_max} & & median < {perc_median}').sort_values('max', ascending=False)['gene_names'].to_list() # or try: norm_median < 0.15\n",
    "thresholded_geneset"
   ]
  },
  {
   "cell_type": "code",
   "execution_count": 48,
   "metadata": {},
   "outputs": [
    {
     "data": {
      "text/plain": [
       "[<matplotlib.lines.Line2D at 0x7f6a5aa9c7c0>]"
      ]
     },
     "execution_count": 48,
     "metadata": {},
     "output_type": "execute_result"
    },
    {
     "data": {
      "image/png": "[encoded data removed]",
      "text/plain": [
       "<Figure size 432x288 with 1 Axes>"
      ]
     },
     "metadata": {
      "needs_background": "light"
     },
     "output_type": "display_data"
    }
   ],
   "source": [
    "plt.plot(np.sort(genes_and_counts_df['skew'])/genes_and_counts_df['skew'].max())\n",
    "plt.plot(np.sort(genes_and_counts_df['max'])/genes_and_counts_df['max'].max())\n",
    "plt.plot(np.sort(genes_and_counts_df['median'])/genes_and_counts_df['median'].max())\n",
    "plt.plot(np.sort(genes_and_counts_df['std'])/genes_and_counts_df['std'].max())\n",
    "#plt.yscale('log')"
   ]
  }
 ],
 "metadata": {
  "kernelspec": {
   "display_name": "Python 3 (ipykernel)",
   "language": "python",
   "name": "python3"
  },
  "language_info": {
   "codemirror_mode": {
    "name": "ipython",
    "version": 3
   },
   "file_extension": ".py",
   "mimetype": "text/x-python",
   "name": "python",
   "nbconvert_exporter": "python",
   "pygments_lexer": "ipython3",
   "version": "3.10.4"
  }
 },
 "nbformat": 4,
 "nbformat_minor": 2
}
